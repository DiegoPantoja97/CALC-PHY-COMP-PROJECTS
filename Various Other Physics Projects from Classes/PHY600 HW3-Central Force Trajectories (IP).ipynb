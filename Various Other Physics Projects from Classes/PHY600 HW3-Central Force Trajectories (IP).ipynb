{
 "cells": [
  {
   "cell_type": "code",
   "execution_count": 8,
   "metadata": {},
   "outputs": [
    {
     "name": "stdout",
     "output_type": "stream",
     "text": [
      "Another Trajectory? 1 = Yes 1\n",
      "K:1.2\n",
      "L: 1\n",
      "r0: 2.2\n",
      "u0: -0.5\n",
      "Another Trajectory? 1 = Yes 1\n",
      "K:1.2\n",
      "L: 1\n",
      "r0: 2.2\n",
      "u0: 0.5\n",
      "Another Trajectory? 1 = Yes 0\n"
     ]
    },
    {
     "data": {
      "image/png": "[encoded data removed]",
      "text/plain": [
       "<Figure size 432x288 with 1 Axes>"
      ]
     },
     "metadata": {
      "needs_background": "light"
     },
     "output_type": "display_data"
    },
    {
     "data": {
      "image/png": "[encoded data removed]",
      "text/plain": [
       "<Figure size 432x288 with 1 Axes>"
      ]
     },
     "metadata": {
      "needs_background": "light"
     },
     "output_type": "display_data"
    }
   ],
   "source": [
    "import matplotlib.pyplot as plt\n",
    "import numpy as np\n",
    "import math\n",
    "\n",
    "def drdt(u):\n",
    "    return float(u)\n",
    "\n",
    "def dudt(r,k,L):\n",
    "    return float((math.pow(r,-3)) * (k-L))\n",
    "\n",
    "def dodt(r,L):\n",
    "    return float((L/math.sqrt(r*r)))\n",
    "\n",
    "def ODESOLVE(k0,L0,r0,u0):   \n",
    "\n",
    "    delta_t = 0.001\n",
    "    k = k0\n",
    "    L = L0\n",
    "    E = 0.2\n",
    "    t_range = np.arange(0,10+delta_t,delta_t)\n",
    "    r_range = np.array([1.0])\n",
    "    u_range = np.array([3.2])\n",
    "    E_range = np.array([3.2])\n",
    "    theta = np.array([1.0])\n",
    "    \n",
    "    r_range[0] = r0\n",
    "    u_range[0] = u0\n",
    "    E_range[0] = 0.0\n",
    "    theta[0] = 0.00\n",
    "    \n",
    "    u = u0\n",
    "    r = r0\n",
    "    angle = theta[0]\n",
    "    \n",
    "    \n",
    "    sum = 0.0\n",
    "    \n",
    "    \n",
    "    \n",
    "    \n",
    "     \n",
    "    \n",
    "    for t in np.arange(0,10,delta_t):  \n",
    "        \n",
    "        E = ((L/(2*pow(r,2))) - (k/pow(r,2)) + (1/2*(pow(drdt(u),2))))\n",
    "        \n",
    "        angle = angle + (dodt(r,L)*delta_t)\n",
    "        u = u + (dudt(r,k,L)*delta_t)\n",
    "        r = r + (drdt(u)*delta_t)\n",
    "        \n",
    "        E_range = np.append(E_range,t)  \n",
    "        r_range = np.append(r_range,r)\n",
    "        u_range = np.append(u_range,u)\n",
    "        theta = np.append(theta,angle)\n",
    "        \n",
    "        \n",
    "    x = np.multiply(r_range,np.cos(theta))\n",
    "    y = np.multiply(r_range,np.sin(theta))\n",
    "    \n",
    "    plt.figure()\n",
    "    plt.xlabel('X')\n",
    "    plt.ylabel('Y')\n",
    "    plt.plot(x,y,color = 'red',label = 'Trajectory')\n",
    "    \n",
    "    \n",
    "\n",
    "    \n",
    "\n",
    "\n",
    "\n",
    "q = int(input(\"Another Trajectory? 1 = Yes \"))\n",
    "\n",
    "while(q==1):\n",
    "    k0 = float(input(\"K:\"))\n",
    "    L0 = float(input(\"L: \"))\n",
    "    r0 = float(input(\"r0: \"))\n",
    "    u0 = float(input(\"u0: \"))\n",
    "    \n",
    "    ODESOLVE(k0,L0,r0,u0)\n",
    "    \n",
    "    q = int(input(\"Another Trajectory? 1 = Yes \"))\n",
    "\n",
    "\n",
    "\n",
    "    \n",
    "    \n",
    "\n",
    "\n",
    "    \n",
    "\n",
    "\n",
    "\n",
    "\n",
    "\n",
    "  \n",
    "   \n",
    "    \n",
    "    \n",
    "    \n"
   ]
  },
  {
   "cell_type": "code",
   "execution_count": null,
   "metadata": {},
   "outputs": [],
   "source": []
  },
  {
   "cell_type": "code",
   "execution_count": null,
   "metadata": {},
   "outputs": [],
   "source": []
  },
  {
   "cell_type": "code",
   "execution_count": null,
   "metadata": {},
   "outputs": [],
   "source": []
  }
 ],
 "metadata": {
  "kernelspec": {
   "display_name": "Python 3",
   "language": "python",
   "name": "python3"
  },
  "language_info": {
   "codemirror_mode": {
    "name": "ipython",
    "version": 3
   },
   "file_extension": ".py",
   "mimetype": "text/x-python",
   "name": "python",
   "nbconvert_exporter": "python",
   "pygments_lexer": "ipython3",
   "version": "3.7.1"
  }
 },
 "nbformat": 4,
 "nbformat_minor": 2
}
