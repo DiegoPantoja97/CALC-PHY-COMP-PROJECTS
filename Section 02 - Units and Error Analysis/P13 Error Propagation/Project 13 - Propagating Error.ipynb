{
 "cells": [
  {
   "cell_type": "code",
   "execution_count": 6,
   "id": "1995c69b-0c73-4439-8a5e-303cbbd6baac",
   "metadata": {},
   "outputs": [
    {
     "name": "stdout",
     "output_type": "stream",
     "text": [
      "Welcome to the Error Propagation Tool!\n",
      "The defined function is: x + y\n"
     ]
    },
    {
     "name": "stdin",
     "output_type": "stream",
     "text": [
      "Enter the number of variables (e.g., 3 for x, y, z):  2\n",
      "Enter the measured values as a space-separated list (e.g., 2.0 3.0 4.0 for [x, y]):  2.5 3.1\n",
      "Enter the uncertainties as a space-separated list (e.g., 0.1 0.2 0.15 for [x, y]):  0.2 0.05\n"
     ]
    },
    {
     "name": "stdout",
     "output_type": "stream",
     "text": [
      "\n",
      "Results:\n",
      "The evaluated function value is: 5.6\n",
      "The propagated uncertainty is: 0.20615528128088306\n"
     ]
    }
   ],
   "source": [
    "import sympy as sp\n",
    "import numpy as np\n",
    "\n",
    "def propagate_errors():\n",
    "    print(\"Welcome to the Error Propagation Tool!\")\n",
    "    \n",
    "    # Define the function here\n",
    "    # Example: f(x, y) = x + y\n",
    "    x, y = sp.symbols('x y')  # Define symbols for variables\n",
    "    f = x + y   # Define the function here\n",
    "\n",
    "    print(f\"The defined function is: {f}\")\n",
    "\n",
    "    # Input arrays for measured values and uncertainties\n",
    "    num_vars = int(input(\"Enter the number of variables (e.g., 3 for x, y, z): \"))\n",
    "\n",
    "    # Validate that the number of variables matches the function\n",
    "    variables = [x, y][:num_vars]  # Adjust variable list based on input count\n",
    "\n",
    "    values = list(map(float, input(f\"Enter the measured values as a space-separated list (e.g., 2.0 3.0 4.0 for {variables}): \").split()))\n",
    "    uncertainties = list(map(float, input(f\"Enter the uncertainties as a space-separated list (e.g., 0.1 0.2 0.15 for {variables}): \").split()))\n",
    "\n",
    "    if len(values) != num_vars or len(uncertainties) != num_vars:\n",
    "        print(\"Error: The number of values and uncertainties must match the number of variables!\")\n",
    "        return\n",
    "\n",
    "    # Calculate partial derivatives\n",
    "    partial_derivatives = [sp.diff(f, var) for var in variables]\n",
    "\n",
    "    # Calculate propagated uncertainty\n",
    "    propagated_uncertainty = 0\n",
    "    for i, var in enumerate(variables):\n",
    "        partial_value = partial_derivatives[i].subs(dict(zip(variables, values)))\n",
    "        propagated_uncertainty += (partial_value * uncertainties[i])**2\n",
    "\n",
    "    propagated_uncertainty = np.sqrt(float(propagated_uncertainty))\n",
    "\n",
    "    # Evaluate the function at the given values\n",
    "    function_value = float(f.subs(dict(zip(variables, values))))\n",
    "\n",
    "    print(\"\\nResults:\")\n",
    "    print(f\"The evaluated function value is: {function_value}\")\n",
    "    print(f\"The propagated uncertainty is: {propagated_uncertainty}\")\n",
    "\n",
    "# Run the program\n",
    "propagate_errors()\n"
   ]
  },
  {
   "cell_type": "code",
   "execution_count": null,
   "id": "1b902944-5543-4054-9ff5-ce1ffe51d152",
   "metadata": {},
   "outputs": [],
   "source": []
  }
 ],
 "metadata": {
  "kernelspec": {
   "display_name": "Python 3 (ipykernel)",
   "language": "python",
   "name": "python3"
  },
  "language_info": {
   "codemirror_mode": {
    "name": "ipython",
    "version": 3
   },
   "file_extension": ".py",
   "mimetype": "text/x-python",
   "name": "python",
   "nbconvert_exporter": "python",
   "pygments_lexer": "ipython3",
   "version": "3.12.3"
  }
 },
 "nbformat": 4,
 "nbformat_minor": 5
}
